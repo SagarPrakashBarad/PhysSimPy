{
 "cells": [
  {
   "cell_type": "code",
   "execution_count": 23,
   "metadata": {},
   "outputs": [],
   "source": [
    "import numpy as np\n",
    "import sympy as sp\n",
    "from scipy.integrate import odeint\n",
    "from matplotlib import pyplot as plt\n",
    "from matplotlib import animation\n",
    "from mpl_toolkits.mplot3d import Axes3D\n",
    "from matplotlib.animation import PillowWriter"
   ]
  },
  {
   "attachments": {},
   "cell_type": "markdown",
   "metadata": {},
   "source": [
    "Position confined to some 1D path: $x=x(\\theta)$ and $y=y(\\theta)$ A few examples\n",
    "\n",
    "* Parabola: $x = \\theta$ and $y=\\theta^2$\n",
    "* Simple Pendulum: $x = \\cos(\\theta)$ and $y=\\sin(\\theta)$\n",
    "* Tautochrone: $x = \\sin(2\\theta) + 2\\theta$ and $y=1-\\cos(2 \\theta)$\n",
    "* Many more ...\n",
    "    \n",
    "\n",
    "Kinetic Energy: $ T = \\frac{1}{2}m (\\dot{x}^2 + \\dot{y}^2) $\n",
    "\n",
    "Potential Energy: $ V = mgy $\n",
    "\n",
    "The Lagrangian: $L = T- V $\n",
    "\n",
    "Lagranges Equation: $\\frac{dL}{d\\theta} - \\frac{d}{dt} \\frac{dL}{d\\dot{\\theta}} = 0$"
   ]
  },
  {
   "cell_type": "code",
   "execution_count": 38,
   "metadata": {},
   "outputs": [],
   "source": [
    "# Defining the variables\n",
    "t, m, g = sp.symbols('t m g')\n",
    "the = sp.Function(r'\\theta')(t)\n",
    "d_the = sp.diff(the, t)\n",
    "dd_the = sp.diff(the, t, 2)"
   ]
  },
  {
   "attachments": {},
   "cell_type": "markdown",
   "metadata": {},
   "source": [
    "Make sure the $x$ and $y$ are function of $\\theta$."
   ]
  },
  {
   "cell_type": "code",
   "execution_count": 39,
   "metadata": {},
   "outputs": [],
   "source": [
    "x, y = sp.symbols('x y', cls=sp.Function)\n",
    "x = x(the)\n",
    "y = y(the)"
   ]
  },
  {
   "cell_type": "code",
   "execution_count": 40,
   "metadata": {},
   "outputs": [],
   "source": [
    "# Defining the Lagrangian\n",
    "T = (1/2)*m*(sp.diff(x, t)**2 + sp.diff(y, t)**2)\n",
    "V = m*g*y\n",
    "L = T - V\n",
    "\n",
    "# define the x and y\n",
    "path = 'taut'\n",
    "if path == 'taut':\n",
    "    x = sp.sin(2*the) + 2*the\n",
    "    y = 1 - sp.cos(2*the)\n",
    "    x_f = sp.lambdify(the, x)\n",
    "    y_f = sp.lambdify(the, y)\n",
    "    \n",
    "    LE = sp.diff(L, the) - sp.diff(sp.diff(L, d_the), t)\n",
    "    LE = LE.simplify()\n",
    "    \n",
    "    derv_2 = sp.solve(LE, dd_the)[0]\n",
    "    derv_1 = d_the\n",
    "\n",
    "    \n",
    "if path == 'parab':\n",
    "    x = the\n",
    "    y = the**2\n",
    "    x_f = sp.lambdify(the, x)\n",
    "    y_f = sp.lambdify(the, y)\n",
    "    \n",
    "    LE = sp.diff(L, the) - sp.diff(sp.diff(L, d_the), t)\n",
    "    LE = LE.simplify()\n",
    "    \n",
    "    derv_2 = sp.solve(LE, dd_the)[0]\n",
    "    derv_1 = d_the\n",
    "    \n",
    "if path == 'pendulum':\n",
    "    x = sp.cos(the)\n",
    "    y = sp.sin(the)\n",
    "    x_f = sp.lambdify(the, x)\n",
    "    y_f = sp.lambdify(the, y)\n",
    "    \n",
    "    LE = sp.diff(L, the) - sp.diff(sp.diff(L, d_the), t)\n",
    "    LE = LE.simplify()\n",
    "    \n",
    "    derv_2 = sp.solve(LE, dd_the)[0]\n",
    "    derv_1 = d_the"
   ]
  },
  {
   "cell_type": "code",
   "execution_count": 27,
   "metadata": {},
   "outputs": [],
   "source": [
    "# Defining the Lagrangian\n",
    "T = (1/2)*m*(sp.diff(x, t)**2 + sp.diff(y, t)**2)\n",
    "V = m*g*y\n",
    "L = T - V"
   ]
  },
  {
   "cell_type": "code",
   "execution_count": 28,
   "metadata": {},
   "outputs": [
    {
     "data": {
      "text/latex": [
       "$\\displaystyle - g m \\left(1 - \\cos{\\left(2 \\theta{\\left(t \\right)} \\right)}\\right) + 0.5 m \\left(\\left(2 \\cos{\\left(2 \\theta{\\left(t \\right)} \\right)} \\frac{d}{d t} \\theta{\\left(t \\right)} + 2 \\frac{d}{d t} \\theta{\\left(t \\right)}\\right)^{2} + 4 \\sin^{2}{\\left(2 \\theta{\\left(t \\right)} \\right)} \\left(\\frac{d}{d t} \\theta{\\left(t \\right)}\\right)^{2}\\right)$"
      ],
      "text/plain": [
       "-g*m*(1 - cos(2*\\theta(t))) + 0.5*m*((2*cos(2*\\theta(t))*Derivative(\\theta(t), t) + 2*Derivative(\\theta(t), t))**2 + 4*sin(2*\\theta(t))**2*Derivative(\\theta(t), t)**2)"
      ]
     },
     "execution_count": 28,
     "metadata": {},
     "output_type": "execute_result"
    }
   ],
   "source": [
    "L"
   ]
  },
  {
   "cell_type": "code",
   "execution_count": 29,
   "metadata": {},
   "outputs": [
    {
     "data": {
      "text/latex": [
       "$\\displaystyle m \\left(- 2.0 g \\sin{\\left(2 \\theta{\\left(t \\right)} \\right)} + 8.0 \\sin{\\left(2 \\theta{\\left(t \\right)} \\right)} \\left(\\frac{d}{d t} \\theta{\\left(t \\right)}\\right)^{2} - 8.0 \\cos{\\left(2 \\theta{\\left(t \\right)} \\right)} \\frac{d^{2}}{d t^{2}} \\theta{\\left(t \\right)} - 8.0 \\frac{d^{2}}{d t^{2}} \\theta{\\left(t \\right)}\\right)$"
      ],
      "text/plain": [
       "m*(-2.0*g*sin(2*\\theta(t)) + 8.0*sin(2*\\theta(t))*Derivative(\\theta(t), t)**2 - 8.0*cos(2*\\theta(t))*Derivative(\\theta(t), (t, 2)) - 8.0*Derivative(\\theta(t), (t, 2)))"
      ]
     },
     "execution_count": 29,
     "metadata": {},
     "output_type": "execute_result"
    }
   ],
   "source": [
    "LE = sp.diff(L, the) - sp.diff(sp.diff(L, d_the), t)\n",
    "LE = LE.simplify()\n",
    "LE"
   ]
  },
  {
   "attachments": {},
   "cell_type": "markdown",
   "metadata": {},
   "source": [
    "Solve for $d^2 \\theta / dt^2 $ so we can solve it with an ODE solver. Our system of equations will then be\n",
    "\n",
    "$$ \\frac{d \\theta}{dt} = \\omega$$\n",
    "$$\\frac{d \\omega}{dt} = \\frac{d^2 \\theta}{dt^2} =  \\text{whatever is returned} $$"
   ]
  },
  {
   "cell_type": "code",
   "execution_count": 30,
   "metadata": {},
   "outputs": [],
   "source": [
    "derv_2 = sp.solve(LE, dd_the)[0]\n",
    "derv_1 = d_the"
   ]
  },
  {
   "cell_type": "code",
   "execution_count": 31,
   "metadata": {},
   "outputs": [
    {
     "data": {
      "text/latex": [
       "$\\displaystyle 0.25 \\left(- g + 4.0 \\left(\\frac{d}{d t} \\theta{\\left(t \\right)}\\right)^{2}\\right) \\tan{\\left(\\theta{\\left(t \\right)} \\right)}$"
      ],
      "text/plain": [
       "0.25*(-g + 4.0*Derivative(\\theta(t), t)**2)*tan(\\theta(t))"
      ]
     },
     "execution_count": 31,
     "metadata": {},
     "output_type": "execute_result"
    }
   ],
   "source": [
    "derv_2"
   ]
  },
  {
   "cell_type": "code",
   "execution_count": 32,
   "metadata": {},
   "outputs": [],
   "source": [
    "deriv_1_f = sp.lambdify(d_the, d_the)\n",
    "deriv_2_f = sp.lambdify((g, the, d_the), derv_2)"
   ]
  },
  {
   "cell_type": "code",
   "execution_count": 41,
   "metadata": {},
   "outputs": [
    {
     "data": {
      "image/png": "[encoded data removed]",
      "text/plain": [
       "<Figure size 432x288 with 1 Axes>"
      ]
     },
     "metadata": {
      "needs_background": "light"
     },
     "output_type": "display_data"
    }
   ],
   "source": [
    "# Defining the ODE\n",
    "def dsdt(y, t):\n",
    "    return [deriv_1_f(y[1]), deriv_2_f(g, y[0], y[1])]\n",
    "\n",
    "t = np.linspace(0, 20, 1000)\n",
    "g = 9.81\n",
    "ans1 = odeint(dsdt, y0=[np.pi/4, 0], t=t)\n",
    "ans2 = odeint(dsdt, y0=[np.pi/5, 0], t=t)\n",
    "\n",
    "x1 = ans1.T[0]\n",
    "x2 = ans2.T[0]\n",
    "\n",
    "plt.plot(t, x1, label=r'$\\theta_0 = \\frac{\\pi}{4}$')\n",
    "plt.plot(t, x2, label=r'$\\theta_0 = \\frac{\\pi}{5}$')\n",
    "plt.xlabel('Time (s)')\n",
    "plt.ylabel(r'$\\theta$ (rad)')\n",
    "plt.legend()\n",
    "plt.show()"
   ]
  },
  {
   "cell_type": "code",
   "execution_count": 42,
   "metadata": {},
   "outputs": [
    {
     "data": {
      "image/png": "[encoded data removed]",
      "text/plain": [
       "<Figure size 432x288 with 1 Axes>"
      ]
     },
     "metadata": {
      "needs_background": "light"
     },
     "output_type": "display_data"
    }
   ],
   "source": [
    "def get_xy(theta):\n",
    "    return x_f(theta), y_f(theta)\n",
    "\n",
    "x1, y1 = get_xy(x1)\n",
    "x2, y2 = get_xy(x2)\n",
    "\n",
    "def animate(i):\n",
    "    ln1.set_data([x1[i]], [y1[i]])\n",
    "    ln2.set_data([x2[i]], [y2[i]])\n",
    "    \n",
    "fig, ax = plt.subplots(1,1)\n",
    "ax.grid()\n",
    "ln1, = plt.plot([], [], 'ro')\n",
    "ln2, = plt.plot([], [], 'ro')\n",
    "ax.set_ylim(-1, 4)\n",
    "ax.set_xlim(-4,4)\n",
    "ax.set_xlabel('x')\n",
    "ax.set_ylabel('y')\n",
    "ax.set_title('tautochrone motion')\n",
    "ani = animation.FuncAnimation(fig, animate, frames=1000, interval=50)\n",
    "ani.save('taut.gif',writer='pillow',fps=50)"
   ]
  },
  {
   "cell_type": "code",
   "execution_count": 43,
   "metadata": {},
   "outputs": [
    {
     "data": {
      "image/png": "[encoded data removed]",
      "text/plain": [
       "<Figure size 432x288 with 1 Axes>"
      ]
     },
     "metadata": {
      "needs_background": "light"
     },
     "output_type": "display_data"
    }
   ],
   "source": [
    "path = 'parab'\n",
    "\n",
    "def get_xy(theta):\n",
    "    return x_f(theta), y_f(theta)\n",
    "\n",
    "x1, y1 = get_xy(x1)\n",
    "x2, y2 = get_xy(x2)\n",
    "\n",
    "def animate(i):\n",
    "    ln1.set_data([x1[i]], [y1[i]])\n",
    "    ln2.set_data([x2[i]], [y2[i]])\n",
    "    \n",
    "fig, ax = plt.subplots(1,1)\n",
    "ax.grid()\n",
    "ln1, = plt.plot([], [], 'ro')\n",
    "ln2, = plt.plot([], [], 'ro')\n",
    "ax.set_ylim(-1, 4)\n",
    "ax.set_xlim(-4,4)\n",
    "ax.set_xlabel('x')\n",
    "ax.set_ylabel('y')\n",
    "ax.set_title('parabolic motion')\n",
    "ani = animation.FuncAnimation(fig, animate, frames=1000, interval=50)\n",
    "ani.save('parabolic.gif',writer='pillow',fps=50)"
   ]
  },
  {
   "cell_type": "code",
   "execution_count": 44,
   "metadata": {},
   "outputs": [
    {
     "data": {
      "image/png": "[encoded data removed]",
      "text/plain": [
       "<Figure size 432x288 with 1 Axes>"
      ]
     },
     "metadata": {
      "needs_background": "light"
     },
     "output_type": "display_data"
    }
   ],
   "source": [
    "path = 'pendulum'\n",
    "\n",
    "def get_xy(theta):\n",
    "    return x_f(theta), y_f(theta)\n",
    "\n",
    "x1, y1 = get_xy(x1)\n",
    "x2, y2 = get_xy(x2)\n",
    "\n",
    "def animate(i):\n",
    "    ln1.set_data([x1[i]], [y1[i]])\n",
    "    ln2.set_data([x2[i]], [y2[i]])\n",
    "    \n",
    "fig, ax = plt.subplots(1,1)\n",
    "ax.grid()\n",
    "ln1, = plt.plot([], [], 'ro')\n",
    "ln2, = plt.plot([], [], 'ro')\n",
    "ax.set_ylim(-1, 4)\n",
    "ax.set_xlim(-4,4)\n",
    "ax.set_xlabel('x')\n",
    "ax.set_ylabel('y')\n",
    "ax.set_title('Pendulum motion')\n",
    "ani = animation.FuncAnimation(fig, animate, frames=1000, interval=50)\n",
    "ani.save('pen.gif',writer='pillow',fps=50)"
   ]
  }
 ],
 "metadata": {
  "kernelspec": {
   "display_name": "base",
   "language": "python",
   "name": "python3"
  },
  "language_info": {
   "codemirror_mode": {
    "name": "ipython",
    "version": 3
   },
   "file_extension": ".py",
   "mimetype": "text/x-python",
   "name": "python",
   "nbconvert_exporter": "python",
   "pygments_lexer": "ipython3",
   "version": "3.8.8"
  },
  "orig_nbformat": 4
 },
 "nbformat": 4,
 "nbformat_minor": 2
}
